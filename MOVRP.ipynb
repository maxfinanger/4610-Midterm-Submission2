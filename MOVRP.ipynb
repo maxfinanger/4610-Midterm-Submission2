{
 "cells": [
  {
   "cell_type": "markdown",
   "id": "a1e4271e",
   "metadata": {},
   "source": [
    "# Multi-Objective Capacitated VRP (MOVRP) Problem Using Multi-Objective Evolutionary Algorithms (MOEAs)"
   ]
  },
  {
   "cell_type": "code",
   "execution_count": null,
   "id": "3c4b0ecd",
   "metadata": {
    "vscode": {
     "languageId": "plaintext"
    }
   },
   "outputs": [],
   "source": [
    "# TODO ADD the project"
   ]
  }
 ],
 "metadata": {
  "language_info": {
   "name": "python"
  }
 },
 "nbformat": 4,
 "nbformat_minor": 5
}
