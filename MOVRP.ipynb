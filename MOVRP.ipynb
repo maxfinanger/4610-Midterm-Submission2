{
 "cells": [
  {
   "cell_type": "markdown",
   "id": "a1e4271e",
   "metadata": {},
   "source": [
    "# Multi-Objective Capacitated VRP (MOVRP) Problem Using Multi-Objective Evolutionary Algorithms (MOEAs)"
   ]
  },
  {
   "cell_type": "markdown",
   "id": "ac41a893",
   "metadata": {},
   "source": [
    "## NSGA-II Implementation"
   ]
  },
  {
   "cell_type": "code",
   "execution_count": null,
   "id": "3c4b0ecd",
   "metadata": {
    "vscode": {
     "languageId": "plaintext"
    }
   },
   "outputs": [],
   "source": [
    "# TODO ADD  ALGO"
   ]
  },
  {
   "cell_type": "markdown",
   "id": "696daef4",
   "metadata": {},
   "source": [
    "## SPEA2 Implementation"
   ]
  },
  {
   "cell_type": "code",
   "execution_count": null,
   "id": "40a36815",
   "metadata": {
    "vscode": {
     "languageId": "plaintext"
    }
   },
   "outputs": [],
   "source": [
    "## TODO ADD ALGO"
   ]
  }
 ],
 "metadata": {
  "language_info": {
   "name": "python"
  }
 },
 "nbformat": 4,
 "nbformat_minor": 5
}
