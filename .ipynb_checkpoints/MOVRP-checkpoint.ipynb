{
 "cells": [
  {
   "cell_type": "markdown",
   "id": "a1e4271e",
   "metadata": {},
   "source": [
    "# Multi-Objective Capacitated VRP (MOVRP) Problem Using Multi-Objective Evolutionary Algorithms (MOEAs)"
   ]
  },
  {
   "cell_type": "markdown",
   "id": "b48fbde9",
   "metadata": {},
   "source": [
    "### Global Functions"
   ]
  },
  {
   "cell_type": "code",
   "execution_count": 1,
   "id": "2689bd76",
   "metadata": {},
   "outputs": [
    {
     "ename": "FileNotFoundError",
     "evalue": "[Errno 2] No such file or directory: 'data/small.vrp'",
     "output_type": "error",
     "traceback": [
      "\u001b[0;31m---------------------------------------------------------------------------\u001b[0m",
      "\u001b[0;31mFileNotFoundError\u001b[0m                         Traceback (most recent call last)",
      "Cell \u001b[0;32mIn[1], line 75\u001b[0m\n\u001b[1;32m     66\u001b[0m     \u001b[38;5;28;01mreturn\u001b[39;00m {\n\u001b[1;32m     67\u001b[0m         \u001b[38;5;124m'\u001b[39m\u001b[38;5;124mmetadata\u001b[39m\u001b[38;5;124m'\u001b[39m: metadata,\n\u001b[1;32m     68\u001b[0m         \u001b[38;5;124m'\u001b[39m\u001b[38;5;124mcoords\u001b[39m\u001b[38;5;124m'\u001b[39m: coords,  \u001b[38;5;66;03m# List of (x, y) tuples, 0-based (index 0 = node 1)\u001b[39;00m\n\u001b[0;32m   (...)\u001b[0m\n\u001b[1;32m     71\u001b[0m         \u001b[38;5;124m'\u001b[39m\u001b[38;5;124mdist_matrix\u001b[39m\u001b[38;5;124m'\u001b[39m: dist_matrix  \u001b[38;5;66;03m# Numpy array of floats\u001b[39;00m\n\u001b[1;32m     72\u001b[0m     }\n\u001b[1;32m     74\u001b[0m \u001b[38;5;66;03m# Example usage for your files\u001b[39;00m\n\u001b[0;32m---> 75\u001b[0m small_data \u001b[38;5;241m=\u001b[39m parse_vrp_file(\u001b[38;5;124m'\u001b[39m\u001b[38;5;124mdata/small.vrp\u001b[39m\u001b[38;5;124m'\u001b[39m)\n\u001b[1;32m     76\u001b[0m medium_data \u001b[38;5;241m=\u001b[39m parse_vrp_file(\u001b[38;5;124m'\u001b[39m\u001b[38;5;124mdata/medium.vrp\u001b[39m\u001b[38;5;124m'\u001b[39m)\n\u001b[1;32m     77\u001b[0m large_data \u001b[38;5;241m=\u001b[39m parse_vrp_file(\u001b[38;5;124m'\u001b[39m\u001b[38;5;124mdata/large.vrp\u001b[39m\u001b[38;5;124m'\u001b[39m)\n",
      "Cell \u001b[0;32mIn[1], line 5\u001b[0m, in \u001b[0;36mparse_vrp_file\u001b[0;34m(file_path)\u001b[0m\n\u001b[1;32m      4\u001b[0m \u001b[38;5;28;01mdef\u001b[39;00m \u001b[38;5;21mparse_vrp_file\u001b[39m(file_path):\n\u001b[0;32m----> 5\u001b[0m     \u001b[38;5;28;01mwith\u001b[39;00m \u001b[38;5;28mopen\u001b[39m(file_path, \u001b[38;5;124m'\u001b[39m\u001b[38;5;124mr\u001b[39m\u001b[38;5;124m'\u001b[39m) \u001b[38;5;28;01mas\u001b[39;00m f:\n\u001b[1;32m      6\u001b[0m         lines \u001b[38;5;241m=\u001b[39m f\u001b[38;5;241m.\u001b[39mreadlines()\n\u001b[1;32m      8\u001b[0m     \u001b[38;5;66;03m# Strip whitespace and filter empty lines\u001b[39;00m\n",
      "File \u001b[0;32m/opt/anaconda3/envs/in3050/lib/python3.12/site-packages/IPython/core/interactiveshell.py:324\u001b[0m, in \u001b[0;36m_modified_open\u001b[0;34m(file, *args, **kwargs)\u001b[0m\n\u001b[1;32m    317\u001b[0m \u001b[38;5;28;01mif\u001b[39;00m file \u001b[38;5;129;01min\u001b[39;00m {\u001b[38;5;241m0\u001b[39m, \u001b[38;5;241m1\u001b[39m, \u001b[38;5;241m2\u001b[39m}:\n\u001b[1;32m    318\u001b[0m     \u001b[38;5;28;01mraise\u001b[39;00m \u001b[38;5;167;01mValueError\u001b[39;00m(\n\u001b[1;32m    319\u001b[0m         \u001b[38;5;124mf\u001b[39m\u001b[38;5;124m\"\u001b[39m\u001b[38;5;124mIPython won\u001b[39m\u001b[38;5;124m'\u001b[39m\u001b[38;5;124mt let you open fd=\u001b[39m\u001b[38;5;132;01m{\u001b[39;00mfile\u001b[38;5;132;01m}\u001b[39;00m\u001b[38;5;124m by default \u001b[39m\u001b[38;5;124m\"\u001b[39m\n\u001b[1;32m    320\u001b[0m         \u001b[38;5;124m\"\u001b[39m\u001b[38;5;124mas it is likely to crash IPython. If you know what you are doing, \u001b[39m\u001b[38;5;124m\"\u001b[39m\n\u001b[1;32m    321\u001b[0m         \u001b[38;5;124m\"\u001b[39m\u001b[38;5;124myou can use builtins\u001b[39m\u001b[38;5;124m'\u001b[39m\u001b[38;5;124m open.\u001b[39m\u001b[38;5;124m\"\u001b[39m\n\u001b[1;32m    322\u001b[0m     )\n\u001b[0;32m--> 324\u001b[0m \u001b[38;5;28;01mreturn\u001b[39;00m io_open(file, \u001b[38;5;241m*\u001b[39margs, \u001b[38;5;241m*\u001b[39m\u001b[38;5;241m*\u001b[39mkwargs)\n",
      "\u001b[0;31mFileNotFoundError\u001b[0m: [Errno 2] No such file or directory: 'data/small.vrp'"
     ]
    }
   ],
   "source": [
    "import math\n",
    "import numpy as np\n",
    "\n",
    "def parse_vrp_file(file_path):\n",
    "    with open(file_path, 'r') as f:\n",
    "        lines = f.readlines()\n",
    "\n",
    "    # Strip whitespace and filter empty lines\n",
    "    lines = [line.strip() for line in lines if line.strip()]\n",
    "\n",
    "    # Parse metadata\n",
    "    metadata = {}\n",
    "    i = 0\n",
    "    while not lines[i].startswith('NODE_COORD_SECTION'):\n",
    "        if ':' in lines[i]:\n",
    "            key, value = lines[i].split(':', 1)\n",
    "            metadata[key.strip()] = value.strip().strip('\"')\n",
    "        i += 1\n",
    "\n",
    "    # Parse node coordinates (1-based in file, but we'll make 0-based list)\n",
    "    coords = []\n",
    "    i += 1  # Skip section header\n",
    "    while not lines[i].startswith('DEMAND_SECTION'):\n",
    "        parts = lines[i].split()\n",
    "        if len(parts) == 3:\n",
    "            node_id = int(parts[0]) - 1  # Make 0-based\n",
    "            x, y = int(parts[1]), int(parts[2])\n",
    "            # Insert at correct index in case not sequential (though they usually are)\n",
    "            while len(coords) <= node_id:\n",
    "                coords.append(None)\n",
    "            coords[node_id] = (x, y)\n",
    "        i += 1\n",
    "\n",
    "    # Parse demands (0-based list)\n",
    "    demands = []\n",
    "    i += 1  # Skip section header\n",
    "    while not lines[i].startswith('DEPOT_SECTION'):\n",
    "        parts = lines[i].split()\n",
    "        if len(parts) == 2:\n",
    "            node_id = int(parts[0]) - 1  # Make 0-based\n",
    "            demand = int(parts[1])\n",
    "            while len(demands) <= node_id:\n",
    "                demands.append(None)\n",
    "            demands[node_id] = demand\n",
    "        i += 1\n",
    "\n",
    "    # Parse depot(s) — usually just one, 1-based\n",
    "    depots = []\n",
    "    i += 1  # Skip section header\n",
    "    while i < len(lines) and lines[i] != 'EOF':\n",
    "        depot = int(lines[i])\n",
    "        if depot == -1:\n",
    "            break\n",
    "        depots.append(depot - 1)  # Make 0-based\n",
    "        i += 1\n",
    "\n",
    "    # Compute distance matrix (Euclidean 2D)\n",
    "    dimension = int(metadata.get('DIMENSION', len(coords)))\n",
    "    dist_matrix = np.zeros((dimension, dimension))\n",
    "    for a in range(dimension):\n",
    "        for b in range(dimension):\n",
    "            x1, y1 = coords[a]\n",
    "            x2, y2 = coords[b]\n",
    "            dist_matrix[a][b] = math.sqrt((x1 - x2)**2 + (y1 - y2)**2)\n",
    "\n",
    "    return {\n",
    "        'metadata': metadata,\n",
    "        'coords': coords,  # List of (x, y) tuples, 0-based (index 0 = node 1)\n",
    "        'demands': demands,  # List of integers, 0-based\n",
    "        'depots': depots,  # List of 0-based indices (usually [0] for depot at node 1)\n",
    "        'dist_matrix': dist_matrix  # Numpy array of floats\n",
    "    }\n",
    "\n",
    "# Example usage for your files\n",
    "small_data = parse_vrp_file('data/small.vrp')\n",
    "medium_data = parse_vrp_file('data/medium.vrp')\n",
    "large_data = parse_vrp_file('data/large.vrp')\n",
    "\n",
    "# Print some extracted info from large (based on the provided sample)\n",
    "print(large_data['metadata'])\n",
    "print(\"Depot index:\", large_data['depots'][0])\n",
    "print(\"Sample coords (first 5):\", large_data['coords'][:5])\n",
    "print(\"Sample demands (first 5):\", large_data['demands'][:5])\n",
    "print(\"Sample distance (node 0 to 1):\", large_data['dist_matrix'][0][1])"
   ]
  },
  {
   "cell_type": "markdown",
   "id": "ac41a893",
   "metadata": {},
   "source": [
    "## NSGA-II Implementation"
   ]
  },
  {
   "cell_type": "code",
   "execution_count": null,
   "id": "3c4b0ecd",
   "metadata": {},
   "outputs": [],
   "source": [
    "# TODO ADD  ALGO"
   ]
  },
  {
   "cell_type": "markdown",
   "id": "696daef4",
   "metadata": {},
   "source": [
    "## SPEA2 Implementation"
   ]
  },
  {
   "cell_type": "code",
   "execution_count": null,
   "id": "40a36815",
   "metadata": {},
   "outputs": [],
   "source": [
    "## TODO ADD ALGO"
   ]
  }
 ],
 "metadata": {
  "kernelspec": {
   "display_name": "in3050",
   "language": "python",
   "name": "python3"
  },
  "language_info": {
   "codemirror_mode": {
    "name": "ipython",
    "version": 3
   },
   "file_extension": ".py",
   "mimetype": "text/x-python",
   "name": "python",
   "nbconvert_exporter": "python",
   "pygments_lexer": "ipython3",
   "version": "3.12.9"
  }
 },
 "nbformat": 4,
 "nbformat_minor": 5
}
